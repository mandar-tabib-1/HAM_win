{
 "cells": [
  {
   "cell_type": "markdown",
   "metadata": {},
   "source": [
    "- To be used for inference purpose "
   ]
  },
  {
   "cell_type": "markdown",
   "metadata": {},
   "source": [
    "    - Inference for momentum and pressure"
   ]
  },
  {
   "cell_type": "code",
   "execution_count": null,
   "metadata": {},
   "outputs": [],
   "source": [
    "import tensorflow as tf  # version 2.6.0\n",
    "import joblib #Version: 1.2.0\n",
    "from sklearn.metrics import mean_absolute_error, mean_squared_error, mean_absolute_percentage_error #scikit-learn              1.3.0 \n",
    "import numpy\n",
    "import matplotlib.pyplot as plt\n",
    "plt.rcParams.update({'font.size': 26})\n",
    "\n",
    "\n",
    "def scale_3D_inference(data_test_features,normalizer_test):\n",
    "    \n",
    "    # Step: Reshape Test dataset to 2D\n",
    "    samples_test, timesteps_test, features_test = data_test_features.shape\n",
    "    data_test_features = data_test_features.reshape(-1, features_test) \n",
    "    \n",
    "    # Step: Scale features in test dataset         \n",
    "    norm_test_features=normalizer_test.transform(data_test_features)\n",
    "        \n",
    "    print(normalizer_test.data_max_)\n",
    "    print(normalizer_test.data_min_)\n",
    "    \n",
    "    # Step: Reshape back to 3D\n",
    "    norm_test_features = norm_test_features.reshape(samples_test, timesteps_test, features_test)\n",
    "    \n",
    "    return norm_test_features\n"
   ]
  },
  {
   "cell_type": "markdown",
   "metadata": {},
   "source": [
    "    - Give path locations to test data"
   ]
  },
  {
   "cell_type": "code",
   "execution_count": null,
   "metadata": {},
   "outputs": [],
   "source": [
    "momentum=True\n",
    "pressure=False"
   ]
  },
  {
   "cell_type": "code",
   "execution_count": null,
   "metadata": {},
   "outputs": [],
   "source": [
    "if momemtum==True\n",
    "    dirFile='../Models/LSTM_HAM'  #ML model for momentum\n",
    " \n",
    "    dirFile_result='../Results'\n",
    "    # kpn.create_directory_if_not_exists(dirFile_result) \n",
    "     \n",
    "    filename_4_scalingfunction = dirFile + \"/Scaling.save\"\n",
    "    \n",
    "elif pressure==True\n",
    "    dirFile='../Models/LSTM_HAM_Pressure'\n",
    "    # kpn.create_directory_if_not_exists(dirFile)\n",
    "   \n",
    "    dirFile_result='../Results_Pressure'\n",
    "    # kpn.create_directory_if_not_exists(dirFile_result)  \n",
    "    \n",
    "    filename_4_scalingfunction = dirFile + \"/Scaling.save\"\n",
    "else:\n",
    "    print('Please choose either momentum or pressure as true')\n",
    "    \n"
   ]
  },
  {
   "cell_type": "code",
   "execution_count": null,
   "metadata": {},
   "outputs": [],
   "source": [
    "# Inference\n",
    "\n",
    "#Load model from path's location (momentum or pressure)\n",
    "model=tf.keras.models.load_model(dirFile+'/best_model.h5')\n",
    "\n",
    "#Load unseen test dataset and scale it for inference.  \n",
    "    # CHECK : Test FEATURES data shape: num_samples (either 1 or all samples) x 3 x num_modes (num_modes=18 for momentum and 10 for pressure). \n",
    "    # Load scaling function for either momentum and pressure\n",
    "    \n",
    "test_data # Load features dataset\n",
    "\n",
    "normalizer=joblib.load(filename_4_scalingfunction)\n",
    "\n",
    "norm_test_features=scale_3D_inference(test_data,normalizer) # data_test_features\n",
    "      \n",
    "\n",
    "#Predict the residual using the model\n",
    "addcorrection=model.predict(norm_test_features) #addcorrection shape : num_samples x num_modes\n",
    "\n",
    "\n",
    "# #Plot the residual\n",
    "\n",
    "for i in range(addcorrection.shape[1]):\n",
    "    plt.figure(figsize=(20,12))\n",
    "   \n",
    "    plt.plot(addcorrection[:,i],label='ML predicted')\n",
    "    \n",
    "    plt.title('Comparison plot')\n",
    "    \n",
    "    plt.legend()\n",
    "    \n",
    "    filename = f'Comparison plot_{i}.png'\n",
    "    \n",
    "    plt.savefig(os.path.abspath(dirFile_result+'/'+filename), dpi = 200)\n",
    "    \n",
    "    plt.show()  \n",
    "\n"
   ]
  }
 ],
 "metadata": {
  "kernelspec": {
   "display_name": "Python 3",
   "language": "python",
   "name": "python3"
  },
  "language_info": {
   "codemirror_mode": {
    "name": "ipython",
    "version": 3
   },
   "file_extension": ".py",
   "mimetype": "text/x-python",
   "name": "python",
   "nbconvert_exporter": "python",
   "pygments_lexer": "ipython3",
   "version": "3.9.18"
  }
 },
 "nbformat": 4,
 "nbformat_minor": 2
}
